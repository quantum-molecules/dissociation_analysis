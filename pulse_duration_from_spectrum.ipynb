{
 "cells": [
  {
   "cell_type": "code",
   "execution_count": 1,
   "metadata": {},
   "outputs": [],
   "source": [
    "import numpy as np\n",
    "import matplotlib.pyplot as plt\n",
    "from pathlib import Path\n",
    "from scipy.optimize import curve_fit"
   ]
  },
  {
   "cell_type": "code",
   "execution_count": 2,
   "metadata": {},
   "outputs": [],
   "source": [
    "def gaussian(x, amplitude, mean, std_dev, offset):\n",
    "    return amplitude * np.exp(-(x - mean)**2 / (2 * std_dev**2)) + offset"
   ]
  },
  {
   "cell_type": "code",
   "execution_count": 10,
   "metadata": {},
   "outputs": [
    {
     "name": "stdout",
     "output_type": "stream",
     "text": [
      "wl_500_HR2001601_0.dat\n",
      "wl_510_HR2001601_0.dat\n",
      "wl_525_HR2001601_0.dat\n",
      "wl_535_HR2001601_0.dat\n",
      "wl_540_HR2001601_0.dat\n",
      "wl_520_HR2001601_0.dat\n",
      "wl_530_HR2001601_0.dat\n"
     ]
    }
   ],
   "source": [
    "for file in Path('opa_spectrum').glob(\"*.dat\"):\n",
    "    print(file.name)"
   ]
  },
  {
   "cell_type": "code",
   "execution_count": 16,
   "metadata": {},
   "outputs": [],
   "source": [
    "data = {}\n",
    "for file in Path('opa_spectrum').glob(\"*.dat\"):\n",
    "\n",
    "    # Read lines starting from line 15\n",
    "    with open(file, 'r') as f:\n",
    "        array_from_file = np.loadtxt(f, skiprows=14)\n",
    "    data[int(file.name[3:6])] = array_from_file"
   ]
  },
  {
   "cell_type": "code",
   "execution_count": 25,
   "metadata": {},
   "outputs": [
    {
     "name": "stdout",
     "output_type": "stream",
     "text": [
      "[1.38605587e+02 9.47299095e-03 1.19340871e-02 7.93677025e+01]\n",
      "[7.70476815e+01 1.40346078e-02 1.86799253e-02 4.94308597e+01]\n",
      "[1.77781739e+02 8.05308552e-03 9.74172803e-03 9.19568024e+01]\n",
      "[1.54647435e+02 7.35106538e-03 8.91296815e-03 8.05268560e+01]\n",
      "[3.19814512e+02 8.19513175e-03 9.53236120e-03 1.46658589e+02]\n",
      "[7.04766417e+01 5.67463934e-03 7.43626943e-03 4.38757883e+01]\n",
      "[7.72533317e+01 4.89346325e-03 5.64097974e-03 3.43524027e+01]\n"
     ]
    },
    {
     "data": {
      "image/png": "[encoded data removed]",
      "text/plain": [
       "<Figure size 640x480 with 1 Axes>"
      ]
     },
     "metadata": {},
     "output_type": "display_data"
    }
   ],
   "source": [
    "res = {}\n",
    "for wl in data.keys():\n",
    "    y_max = np.max(data[wl].T[1])\n",
    "    i_max = np.argmax(data[wl].T[1])\n",
    "    d = data[wl][i_max-20:i_max+20].T\n",
    "    x, y = d[0], d[1]\n",
    "    x_max = x[np.argmax(y)]\n",
    "    params, covariance = curve_fit(gaussian, x, y, p0=[y_max, x_max, 2.0, -100.0])\n",
    "    amplitude, mean, std_dev, offset = params\n",
    "    fwhm = 2*np.sqrt(2*np.log(2)) * std_dev\n",
    "    plt.clf()\n",
    "    plt.plot(x, y, 'o')\n",
    "    plt.plot(x, gaussian(x, amplitude, mean, std_dev, offset), '-')\n",
    "    plt.hlines(amplitude / 2, mean - fwhm / 2, mean + fwhm / 2)\n",
    "    plt.savefig(Path('opa_spectrum').joinpath(f\"{wl}_nm_spectrum.png\"))\n",
    "    print(np.sqrt(np.diag(covariance)))\n",
    "    res[wl] = {\n",
    "        \"mean\": mean, \n",
    "        \"mean_err\": np.sqrt(np.diag(covariance))[1], \n",
    "        \"bandwidth\": fwhm, \n",
    "        \"bw_err\": np.sqrt(np.diag(covariance))[2]\n",
    "    }\n",
    "res = dict(sorted(res.items()))"
   ]
  },
  {
   "cell_type": "code",
   "execution_count": 19,
   "metadata": {},
   "outputs": [],
   "source": [
    "def pulse_duration(wavelength, bandwidth):\n",
    "    return 0.4416 * wavelength**2 / (bandwidth * 100 * 2.99792458)"
   ]
  },
  {
   "cell_type": "code",
   "execution_count": 26,
   "metadata": {},
   "outputs": [
    {
     "data": {
      "text/plain": [
       "{500: {'mean': 501.6282711009998,\n",
       "  'mean_err': 0.009472990953651497,\n",
       "  'bandwidth': 3.8292329835927443,\n",
       "  'bw_err': 0.011934087129968698},\n",
       " 510: {'mean': 510.16322218304975,\n",
       "  'mean_err': 0.014034607840569688,\n",
       "  'bandwidth': 4.204001720846648,\n",
       "  'bw_err': 0.018679925341308957},\n",
       " 520: {'mean': 520.5258031939668,\n",
       "  'mean_err': 0.0056746393420349876,\n",
       "  'bandwidth': 4.095740925542866,\n",
       "  'bw_err': 0.007436269429541245},\n",
       " 525: {'mean': 527.3391758193088,\n",
       "  'mean_err': 0.008053085523893956,\n",
       "  'bandwidth': 3.471673468679192,\n",
       "  'bw_err': 0.009741728031596368},\n",
       " 530: {'mean': 530.7781037515015,\n",
       "  'mean_err': 0.004893463247208869,\n",
       "  'bandwidth': 2.963395120805963,\n",
       "  'bw_err': 0.005640979742040955},\n",
       " 535: {'mean': 536.025031263785,\n",
       "  'mean_err': 0.007351065381079256,\n",
       "  'bandwidth': 3.489056385225438,\n",
       "  'bw_err': 0.00891296815027938},\n",
       " 540: {'mean': 540.5972087996629,\n",
       "  'mean_err': 0.008195131749659393,\n",
       "  'bandwidth': 3.0608698363226368,\n",
       "  'bw_err': 0.009532361198067248}}"
      ]
     },
     "execution_count": 26,
     "metadata": {},
     "output_type": "execute_result"
    }
   ],
   "source": [
    "res"
   ]
  },
  {
   "cell_type": "code",
   "execution_count": 21,
   "metadata": {},
   "outputs": [],
   "source": [
    "t_pulse = {}\n",
    "for wl in res:\n",
    "    t_pulse[wl] = pulse_duration(res[wl][\"mean\"], res[wl][\"bandwidth\"])  # fs"
   ]
  },
  {
   "cell_type": "code",
   "execution_count": 22,
   "metadata": {},
   "outputs": [
    {
     "data": {
      "text/plain": [
       "{500: 96.79670638861498,\n",
       " 510: 91.19347614946551,\n",
       " 525: 117.99118518659529,\n",
       " 535: 121.3027133559515,\n",
       " 540: 140.64072556497126,\n",
       " 520: 97.4451907352194,\n",
       " 530: 140.0376446032355}"
      ]
     },
     "execution_count": 22,
     "metadata": {},
     "output_type": "execute_result"
    }
   ],
   "source": [
    "t_pulse"
   ]
  },
  {
   "cell_type": "code",
   "execution_count": 27,
   "metadata": {},
   "outputs": [],
   "source": [
    "from uncertainties import ufloat\n",
    "t_pulse = {}\n",
    "for wl in res:\n",
    "    t_pulse[wl] = pulse_duration(ufloat(res[wl][\"mean\"],res[wl][\"mean_err\"]), ufloat(res[wl][\"bandwidth\"],res[wl][\"bw_err\"])) "
   ]
  },
  {
   "cell_type": "code",
   "execution_count": 28,
   "metadata": {},
   "outputs": [
    {
     "data": {
      "text/plain": [
       "{500: 96.79670638861498+/-0.3016962292403416,\n",
       " 510: 91.19347614946551+/-0.4052372071279954,\n",
       " 520: 97.4451907352194+/-0.176935249305744,\n",
       " 525: 117.99118518659529+/-0.3311100919560846,\n",
       " 530: 140.0376446032355+/-0.26658158743921617,\n",
       " 535: 121.3027133559515+/-0.3098916781777724,\n",
       " 540: 140.64072556497126+/-0.4380133092015035}"
      ]
     },
     "execution_count": 28,
     "metadata": {},
     "output_type": "execute_result"
    }
   ],
   "source": [
    "t_pulse"
   ]
  },
  {
   "cell_type": "code",
   "execution_count": null,
   "metadata": {},
   "outputs": [],
   "source": []
  }
 ],
 "metadata": {
  "kernelspec": {
   "display_name": ".venv",
   "language": "python",
   "name": "python3"
  },
  "language_info": {
   "codemirror_mode": {
    "name": "ipython",
    "version": 3
   },
   "file_extension": ".py",
   "mimetype": "text/x-python",
   "name": "python",
   "nbconvert_exporter": "python",
   "pygments_lexer": "ipython3",
   "version": "3.8.10"
  }
 },
 "nbformat": 4,
 "nbformat_minor": 2
}
